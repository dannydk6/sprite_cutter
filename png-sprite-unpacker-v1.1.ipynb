{
 "cells": [
  {
   "cell_type": "code",
   "execution_count": 1,
   "metadata": {
    "scrolled": true
   },
   "outputs": [],
   "source": [
    "import os\n",
    "import copy\n",
    "from skimage import io, color\n",
    "import scipy.stats\n",
    "import numpy as np\n",
    "from pathlib import Path\n",
    "import cv2\n",
    "\n",
    "from sprite_cutter.sprite_cutter import *\n",
    "from sprite_cutter.find_sprites import *\n",
    "from sprite_cutter.helpers import timing\n",
    "from sprite_cutter.classes import Rectangle, Point"
   ]
  },
  {
   "cell_type": "code",
   "execution_count": 2,
   "metadata": {},
   "outputs": [
    {
     "name": "stdout",
     "output_type": "stream",
     "text": [
      "Choose an index for the list below [0-63]\n",
      "0. allen-walker.png\n",
      "1. anna-kyoyama.png\n",
      "2. arale-norimaki.png\n",
      "3. bobobo-bo-bo-bobo.png\n",
      "4. caramelman-j.png\n",
      "5. dio.png\n",
      "6. don-patch-poppa-rocks.png\n",
      "7. dr-mashirito.png\n",
      "8. eve.png\n",
      "9. franky.png\n",
      "10. frieza.png\n",
      "11. fuusuke.png\n",
      "12. gintoki-sakata.png\n",
      "13. gohan-super-saiyan-2.png\n",
      "14. gohan-super-saiyan.png\n",
      "15. goku-super-saiyan.png\n",
      "16. goku.png\n",
      "17. gon-freecss.png\n",
      "18. gotenks-super-saiyan.png\n",
      "19. gotenks.png\n",
      "20. heihachi-edajima.png\n",
      "21. hiei.png\n",
      "22. ichigo-kurosaki.png\n",
      "23. jaguar-junichi.png\n",
      "24. jotaro-kujo.png\n",
      "25. kagura.png\n",
      "26. kakashi-hatake.png\n",
      "27. kazuki-muto.png\n",
      "28. kenshin-himura.png\n",
      "29. kenshiro.png\n",
      "30. killua-zaoldyeck.png\n",
      "31. kinnikuman.png\n",
      "32. kurama.png\n",
      "33. lenalee-lee.png\n",
      "34. majin-buu.png\n",
      "35. momotaro-tsurugi.png\n",
      "36. monkey-d-luffy-2nd-gear.png\n",
      "37. monkey-d-luffy.png\n",
      "38. nami-perfect-clima-tact.png\n",
      "39. nami.png\n",
      "40. naruto-uzumaki-nine-tails-kyubi.png\n",
      "41. naruto-uzumaki.png\n",
      "42. neuro-nogami.png\n",
      "43. nico-robin.png\n",
      "44. pegasus-seiya.png\n",
      "45. piccolo.png\n",
      "46. raoh.png\n",
      "47. renji-abarai.png\n",
      "48. roronoa-zoro.png\n",
      "49. rukia-kuchiki.png\n",
      "50. ryotsu-kankichi.png\n",
      "51. sakura-haruno.png\n",
      "52. sanji-vinsmoke.png\n",
      "53. sasuke-uchiha.png\n",
      "54. taikoubou.png\n",
      "55. toshiro-hitsugaya.png\n",
      "56. train-heartnet.png\n",
      "57. vegeta-super-saiyan.png\n",
      "58. vegeta.png\n",
      "59. vegito.png\n",
      "60. yoh-asakura-power-sword.png\n",
      "61. yoh-asakura.png\n",
      "62. yugi-mutou.png\n",
      "63. yusuke-urameshi.png\n",
      "0\n"
     ]
    }
   ],
   "source": [
    "# List of sheet paths\n",
    "base_path = '..'\n",
    "sheets = [os.path.join(base_path,'sheets',x) for x in os.listdir(\"../sheets\") if '.png' in x]\n",
    "print(f\"Choose an index for the list below [0-{len(sheets)-1}]\")\n",
    "[print(f\"{i}. {x}\") for i, x in enumerate(os.listdir(os.path.join(base_path, 'sheets')))]\n",
    "index = int(input())"
   ]
  },
  {
   "cell_type": "code",
   "execution_count": 3,
   "metadata": {},
   "outputs": [],
   "source": [
    "# Example sheet\n",
    "sheet = sheets[index]\n",
    "aname = new_path_name(sheet, base_path)\n",
    "\n",
    "# Create directory\n",
    "Path(aname).mkdir(parents=True, exist_ok=True)"
   ]
  },
  {
   "cell_type": "code",
   "execution_count": 4,
   "metadata": {},
   "outputs": [],
   "source": [
    "# Read img\n",
    "img = cv2.imread(sheet)\n",
    "img = cv2.cvtColor(img, cv2.COLOR_RGB2RGBA)\n",
    "\n",
    "# Get height and width of img\n",
    "height, width = img.shape[0], img.shape[1]\n",
    "\n",
    "# Reshape img to 2d array of rgba values\n",
    "colors = img.reshape(-1,4)\n",
    "\n",
    "# Get value with most occurrences and use as bgColor\n",
    "bgColor = scipy.stats.mode(colors).mode[0]"
   ]
  },
  {
   "cell_type": "code",
   "execution_count": 5,
   "metadata": {},
   "outputs": [],
   "source": [
    "y = 169\n",
    "x = 70\n",
    "point = np.array([y,x])"
   ]
  },
  {
   "cell_type": "code",
   "execution_count": 95,
   "metadata": {},
   "outputs": [],
   "source": [
    "bitmap = find_contiguous(img, point,bgColor,bitmap)"
   ]
  },
  {
   "cell_type": "code",
   "execution_count": 101,
   "metadata": {},
   "outputs": [
    {
     "data": {
      "text/plain": [
       "array([[168,  69,   0,   1],\n",
       "       [168,  70,   0,   1],\n",
       "       [168,  71,   0,   1],\n",
       "       [169,  69,   0,   1],\n",
       "       [169,  70,   0,   1],\n",
       "       [169,  71,   0,   1],\n",
       "       [170,  69,   0,   1],\n",
       "       [170,  70,   0,   1],\n",
       "       [170,  71,   0,   1]], dtype=int64)"
      ]
     },
     "execution_count": 101,
     "metadata": {},
     "output_type": "execute_result"
    }
   ],
   "source": [
    "neighbors(point, bitmap)"
   ]
  },
  {
   "cell_type": "code",
   "execution_count": 92,
   "metadata": {},
   "outputs": [],
   "source": [
    "bitmap = create_bitmap(img, bgColor)"
   ]
  },
  {
   "cell_type": "code",
   "execution_count": 6,
   "metadata": {},
   "outputs": [],
   "source": [
    "from numba import jit\n",
    "\n",
    "@jit(nopython=True)\n",
    "def matches_bg(img, bgColor):\n",
    "    base = np.zeros((img.shape[0],img.shape[1],1), dtype=np.int64)\n",
    "    for y in range(img.shape[0]):\n",
    "        for x in range(img.shape[1]):\n",
    "            base[y,x,0] = colors_match(img[y,x], bgColor)\n",
    "    return base\n",
    "\n",
    "@jit(nopython=True)\n",
    "def colors_match(color, bgColor):\n",
    "    return np.all(color == bgColor)\n",
    "\n",
    "@jit(nopython=True)\n",
    "def unique_neighbors(n1, n2):\n",
    "    return np.vstack((n1, n2))\n",
    "\n",
    "@jit(nopython=True)\n",
    "def find_contiguous(image, point, bgColor, bitmap, marker = 1, margin=1):\n",
    "    unvisited = neighbors(point, image, bitmap, margin)\n",
    "    #print(unvisited)\n",
    "    while unvisited.shape[0] > 0:\n",
    "        currentPoint, unvisited = unvisited[0], unvisited[1:]\n",
    "        if bitmap[currentPoint[0],currentPoint[1],2] != 0:\n",
    "            continue\n",
    "        currNeighbors = neighbors(point, image, bitmap, margin=6)\n",
    "        if currNeighbors.shape[0] > 0:\n",
    "            unvisited = unique_neighbors(unvisited,currNeighbors)\n",
    "        #print(unvisited)\n",
    "        bitmap[currentPoint[0],currentPoint[1],2] = marker\n",
    "    return bitmap\n",
    "\n",
    "# Checks to find neighbors in bitmap. Must not be visited (index 2) or bgColor (index 3)\n",
    "@jit(nopython=True)\n",
    "def neighbors(point, bitmap, margin=1):\n",
    "    y = point[0]\n",
    "    x = point[1]\n",
    "    n = bitmap[max(y-margin,0):min(y+margin+1,img.shape[0]), \n",
    "               max(x-margin,0):min(x+margin+1,img.shape[1])].copy().reshape(-1,4)\n",
    "    return n\n",
    "    #return n[(n[:,2] == 0) & (n[:,3] == 0)][:,0:2]\n",
    "\n",
    "# Creates an array based off img with y,x coordinates and boolean for visits\n",
    "@jit(nopython=True)\n",
    "def create_bitmap(img, bgColor=None):\n",
    "    YY = np.arange(img.shape[0]).repeat(img.shape[1]).reshape((-1,img.shape[1]))\n",
    "    XX = np.arange(img.shape[1]).repeat(img.shape[0]).reshape((-1,img.shape[0])).T\n",
    "    zeros = np.zeros((img.shape[0],img.shape[1],1), dtype=np.uint8)\n",
    "    bgmatches = matches_bg(img, bgColor)\n",
    "    bitmap = np.vstack((YY.ravel(),XX.ravel(),zeros.ravel(),bgmatches.ravel())).T.reshape(img.shape[0],img.shape[1],4)\n",
    "    return bitmap\n",
    "\n",
    "@jit(nopython=True)\n",
    "def neighbors_p(point, img, bitmap, margin=1):\n",
    "    y = point[0]\n",
    "    x = point[1]\n",
    "    width = img.shape[1]\n",
    "    height = img.shape[0]\n",
    "    yn = np.arange(start=-margin, stop=margin+1) + y\n",
    "\n",
    "    # if out of bounds, convert to zero\n",
    "    yn[ yn < 0] = 0\n",
    "    yn[ yn >= height ] = 0\n",
    "\n",
    "    # multiply y by width\n",
    "    yn = width * yn\n",
    "\n",
    "    yn = np.vstack((yn,np.ones((margin*2+1),dtype=np.float64))).T\n",
    "\n",
    "    xn = (np.arange(start=-margin, stop=margin+1) + x)\n",
    "\n",
    "    # if out of bounds, convert to zero\n",
    "    xn[xn < 0] = 0\n",
    "    xn[xn >= width ] = 0\n",
    "\n",
    "    xn = np.vstack((np.ones((margin*2+1),dtype=np.float64),xn))\n",
    "\n",
    "    # dot product\n",
    "    indexes = np.dot(yn,xn).flatten().astype(np.int64).copy()\n",
    "    indexes = indexes[indexes != 0]\n",
    "    n = bitmap[indexes]\n",
    "    return n[(n[:,2] == 0) & (n[:,3] == 0)][:,0:2]\n",
    "\n",
    "# Creates an array based off img with y,x coordinates and boolean for visits\n",
    "@jit(nopython=True)\n",
    "def create_bitpy(img, bgColor=None):\n",
    "    YY = np.arange(img.shape[0]).repeat(img.shape[1]).reshape((-1,img.shape[1]))\n",
    "    XX = np.arange(img.shape[1]).repeat(img.shape[0]).reshape((-1,img.shape[0])).T\n",
    "    zeros = np.zeros((img.shape[0],img.shape[1],1), dtype=np.uint8)\n",
    "    bgmatches = matches_bg(img, bgColor)\n",
    "    bitmap = np.vstack((YY.ravel(),XX.ravel(),zeros.ravel(),bgmatches.ravel())).T.reshape(img.shape[0]*img.shape[1],4)\n",
    "    return bitmap\n",
    "\n",
    "@jit(nopython=True)\n",
    "def find_sprites(image, backgroundColor, margin=3):\n",
    "    #workingImage = copy.deepcopy(image)\n",
    "    bitmap = create_bitpy(image, backgroundColor)\n",
    "    spriteRectangles = []\n",
    "    marker = 0\n",
    "    for y in range(0, image.shape[0]):\n",
    "        for x in range(0, image.shape[1]):\n",
    "            color = image[y,x]\n",
    "            # Checks if color is not bg and point has not been seen\n",
    "            if bitmap[y,x,2] == 0 and colors_match(color, bgColor):\n",
    "                # Iterate found sprite \n",
    "                marker += 1\n",
    "                bitmap[y,x,2] = marker\n",
    "                point = np.array([y,x])\n",
    "                print(\"Found Sprite!\")\n",
    "                #print(f\"Found sprite {marker} starting at ({point[1]},{point[0]})\")\n",
    "                bitmap = find_contiguous(image, point, backgroundColor, bitmap, marker, margin)\n",
    "                spritePlot = bitmap[np.where(bitmap[:,:,2] == marker)]\n",
    "                #print(spritePlot)\n",
    "                spriteRectangle = Rectangle(spritePlot)\n",
    "                #print(f\"The identified sprite has an area of {spriteRectangle.area}\")\n",
    "                spriteRectangles.append(spriteRectangle)\n",
    "    #print(f\"Found {marker} sprites.\")\n",
    "    return sorted(spriteRectangles)"
   ]
  },
  {
   "cell_type": "code",
   "execution_count": 7,
   "metadata": {},
   "outputs": [],
   "source": []
  },
  {
   "cell_type": "code",
   "execution_count": 8,
   "metadata": {},
   "outputs": [],
   "source": [
    "bpy = create_bitpy(img,bgColor)"
   ]
  },
  {
   "cell_type": "code",
   "execution_count": 132,
   "metadata": {},
   "outputs": [
    {
     "data": {
      "text/plain": [
       "array([[168,  69,   0,   1],\n",
       "       [168,  70,   0,   1],\n",
       "       [168,  71,   0,   1],\n",
       "       [169,  69,   0,   1],\n",
       "       [169,  70,   0,   1],\n",
       "       [169,  71,   0,   1],\n",
       "       [170,  69,   0,   1],\n",
       "       [170,  70,   0,   1],\n",
       "       [170,  71,   0,   1]], dtype=int64)"
      ]
     },
     "execution_count": 132,
     "metadata": {},
     "output_type": "execute_result"
    }
   ],
   "source": [
    "neighbors(point, bitmap)"
   ]
  },
  {
   "cell_type": "code",
   "execution_count": null,
   "metadata": {},
   "outputs": [],
   "source": [
    "bitmap[max(y-margin,0):min(y+margin+1,img.shape[0]), \n",
    "               max(x-margin,0):min(x+margin+1,img.shape[1])].copy().reshape(-1,4)"
   ]
  },
  {
   "cell_type": "code",
   "execution_count": 146,
   "metadata": {},
   "outputs": [
    {
     "data": {
      "text/plain": [
       "array([169,   0,   0,   1], dtype=int64)"
      ]
     },
     "execution_count": 146,
     "metadata": {},
     "output_type": "execute_result"
    }
   ],
   "source": [
    "idx1 = img.shape[1] * (y+1) + x\n",
    "idx2 = img.shape[1] * (y) + x\n",
    "idx3 = img.shape[1] * y + x-70\n",
    "bpy[idx3]"
   ]
  },
  {
   "cell_type": "code",
   "execution_count": 148,
   "metadata": {},
   "outputs": [
    {
     "data": {
      "text/plain": [
       "1136"
      ]
     },
     "execution_count": 148,
     "metadata": {},
     "output_type": "execute_result"
    }
   ],
   "source": [
    "img.shape[1]"
   ]
  },
  {
   "cell_type": "code",
   "execution_count": 230,
   "metadata": {},
   "outputs": [
    {
     "data": {
      "text/plain": [
       "70"
      ]
     },
     "execution_count": 230,
     "metadata": {},
     "output_type": "execute_result"
    }
   ],
   "source": [
    "x"
   ]
  },
  {
   "cell_type": "code",
   "execution_count": 570,
   "metadata": {},
   "outputs": [],
   "source": [
    "margin = 1000"
   ]
  },
  {
   "cell_type": "code",
   "execution_count": 34,
   "metadata": {},
   "outputs": [],
   "source": [
    "y = point[0]\n",
    "x = point[1]\n",
    "width = img.shape[1]\n",
    "margin=80"
   ]
  },
  {
   "cell_type": "code",
   "execution_count": 36,
   "metadata": {},
   "outputs": [],
   "source": [
    "yn = np.arange(start=-margin, stop=margin+1) + y\n",
    "\n",
    "# if out of bounds, convert to zero\n",
    "yn[ yn < 0] = 0\n",
    "yn[ yn >= bpy.shape[0] ] = 0\n",
    "\n",
    "# multiply y by width\n",
    "yn = width * yn\n",
    "\n",
    "yn = np.vstack((yn,np.ones((margin*2+1),dtype=np.int64))).T\n",
    "\n",
    "xn = (np.arange(start=-margin, stop=margin+1) + x)\n",
    "\n",
    "# if out of bounds, convert to zero\n",
    "xn[xn < 0] = 0\n",
    "xn[xn >= width ] = 0\n",
    "\n",
    "xn = np.vstack((np.ones((margin*2+1),dtype=np.int64),xn))\n",
    "\n",
    "# dot product\n",
    "indexes = np.dot(yn,xn).flatten()\n",
    "indexes = indexes[indexes != 0]"
   ]
  },
  {
   "cell_type": "code",
   "execution_count": 39,
   "metadata": {},
   "outputs": [
    {
     "data": {
      "text/plain": [
       "array([[141,  55],\n",
       "       [142,  56],\n",
       "       [142,  57],\n",
       "       ...,\n",
       "       [249,  52],\n",
       "       [249,  53],\n",
       "       [249,  55]], dtype=int64)"
      ]
     },
     "execution_count": 39,
     "metadata": {},
     "output_type": "execute_result"
    }
   ],
   "source": [
    "n[(n[:,2] == 0) & (n[:,3] == 0)][:,0:2]"
   ]
  },
  {
   "cell_type": "code",
   "execution_count": 38,
   "metadata": {},
   "outputs": [],
   "source": [
    "n = bpy[indexes]"
   ]
  },
  {
   "cell_type": "code",
   "execution_count": 40,
   "metadata": {
    "scrolled": true
   },
   "outputs": [],
   "source": []
  },
  {
   "cell_type": "code",
   "execution_count": 26,
   "metadata": {},
   "outputs": [
    {
     "data": {
      "text/plain": [
       "array([[   0,    0,    0,    1],\n",
       "       [   0,    1,    0,    1],\n",
       "       [   0,    2,    0,    1],\n",
       "       ...,\n",
       "       [4773, 1133,    0,    0],\n",
       "       [4773, 1134,    0,    0],\n",
       "       [4773, 1135,    0,    0]], dtype=int64)"
      ]
     },
     "execution_count": 26,
     "metadata": {},
     "output_type": "execute_result"
    }
   ],
   "source": [
    "bpy"
   ]
  },
  {
   "cell_type": "code",
   "execution_count": 44,
   "metadata": {},
   "outputs": [],
   "source": [
    "n=neighbors_p(point,img, bpy, margin=6\n",
    "            )"
   ]
  },
  {
   "cell_type": "code",
   "execution_count": 46,
   "metadata": {},
   "outputs": [
    {
     "data": {
      "text/plain": [
       "array([[163,  64],\n",
       "       [163,  65]], dtype=int64)"
      ]
     },
     "execution_count": 46,
     "metadata": {},
     "output_type": "execute_result"
    }
   ],
   "source": [
    "n"
   ]
  },
  {
   "cell_type": "code",
   "execution_count": 471,
   "metadata": {},
   "outputs": [
    {
     "data": {
      "text/plain": [
       "array([[167,  68,   0,   1],\n",
       "       [167,  70,   0,   1],\n",
       "       [167,  72,   0,   1],\n",
       "       [168,  69,   0,   1],\n",
       "       [168,  70,   0,   1],\n",
       "       [168,  71,   0,   1],\n",
       "       [169,  68,   0,   1],\n",
       "       [169,  69,   0,   1],\n",
       "       [169,  71,   0,   1],\n",
       "       [169,  72,   0,   1],\n",
       "       [170,  71,   0,   1],\n",
       "       [170,  70,   0,   1],\n",
       "       [170,  69,   0,   1],\n",
       "       [171,  72,   0,   1],\n",
       "       [171,  70,   0,   1],\n",
       "       [171,  68,   0,   1]], dtype=int64)"
      ]
     },
     "execution_count": 471,
     "metadata": {},
     "output_type": "execute_result"
    }
   ],
   "source": [
    "n[np.argsort(n[:,0])]"
   ]
  },
  {
   "cell_type": "code",
   "execution_count": 417,
   "metadata": {},
   "outputs": [],
   "source": [
    "n.sort(axis=1)"
   ]
  },
  {
   "cell_type": "code",
   "execution_count": 418,
   "metadata": {},
   "outputs": [
    {
     "data": {
      "text/plain": [
       "array([[  0,   1,  69, 168],\n",
       "       [  0,   1,  71, 170],\n",
       "       [  0,   1,  69, 169],\n",
       "       [  0,   1,  71, 169],\n",
       "       [  0,   1,  70, 168],\n",
       "       [  0,   1,  70, 170],\n",
       "       [  0,   1,  71, 168],\n",
       "       [  0,   1,  69, 170]], dtype=int64)"
      ]
     },
     "execution_count": 418,
     "metadata": {},
     "output_type": "execute_result"
    }
   ],
   "source": [
    "n"
   ]
  },
  {
   "cell_type": "code",
   "execution_count": 391,
   "metadata": {},
   "outputs": [
    {
     "data": {
      "text/plain": [
       "(25, 4)"
      ]
     },
     "execution_count": 391,
     "metadata": {},
     "output_type": "execute_result"
    }
   ],
   "source": [
    "neighbors(point, bitmap, margin=2).shape"
   ]
  },
  {
   "cell_type": "code",
   "execution_count": 335,
   "metadata": {},
   "outputs": [
    {
     "data": {
      "text/plain": [
       "array([192053, 192054, 192055])"
      ]
     },
     "execution_count": 335,
     "metadata": {},
     "output_type": "execute_result"
    }
   ],
   "source": [
    "img.shape[1] * y + x + xn"
   ]
  },
  {
   "cell_type": "code",
   "execution_count": 360,
   "metadata": {},
   "outputs": [
    {
     "data": {
      "text/plain": [
       "array([ 1, -1])"
      ]
     },
     "execution_count": 360,
     "metadata": {},
     "output_type": "execute_result"
    }
   ],
   "source": [
    "np.flip(xn)"
   ]
  },
  {
   "cell_type": "code",
   "execution_count": 367,
   "metadata": {},
   "outputs": [],
   "source": []
  },
  {
   "cell_type": "code",
   "execution_count": 368,
   "metadata": {},
   "outputs": [
    {
     "data": {
      "text/plain": [
       "array([[168,  69,   0,   1],\n",
       "       [170,  71,   0,   1]], dtype=int64)"
      ]
     },
     "execution_count": 368,
     "metadata": {},
     "output_type": "execute_result"
    }
   ],
   "source": [
    "n1"
   ]
  },
  {
   "cell_type": "code",
   "execution_count": 369,
   "metadata": {},
   "outputs": [
    {
     "data": {
      "text/plain": [
       "array([[169,  69,   0,   1],\n",
       "       [169,  71,   0,   1]], dtype=int64)"
      ]
     },
     "execution_count": 369,
     "metadata": {},
     "output_type": "execute_result"
    }
   ],
   "source": [
    "n2"
   ]
  },
  {
   "cell_type": "code",
   "execution_count": 370,
   "metadata": {},
   "outputs": [
    {
     "data": {
      "text/plain": [
       "array([[168,  70,   0,   1],\n",
       "       [170,  70,   0,   1]], dtype=int64)"
      ]
     },
     "execution_count": 370,
     "metadata": {},
     "output_type": "execute_result"
    }
   ],
   "source": [
    "n3"
   ]
  },
  {
   "cell_type": "code",
   "execution_count": 371,
   "metadata": {},
   "outputs": [
    {
     "data": {
      "text/plain": [
       "array([[168,  71,   0,   1],\n",
       "       [170,  69,   0,   1]], dtype=int64)"
      ]
     },
     "execution_count": 371,
     "metadata": {},
     "output_type": "execute_result"
    }
   ],
   "source": [
    "n4"
   ]
  },
  {
   "cell_type": "code",
   "execution_count": 107,
   "metadata": {},
   "outputs": [],
   "source": [
    "bitmap = create_bitmap(img, bgColor)"
   ]
  },
  {
   "cell_type": "code",
   "execution_count": 230,
   "metadata": {},
   "outputs": [],
   "source": [
    "m = 6\n",
    "y = 19\n",
    "x = 43\n",
    "point = np.array([y,x])\n",
    "color = img[point[0],point[1]]"
   ]
  },
  {
   "cell_type": "code",
   "execution_count": 31,
   "metadata": {},
   "outputs": [
    {
     "data": {
      "text/plain": [
       "array([], dtype=int32)"
      ]
     },
     "execution_count": 31,
     "metadata": {},
     "output_type": "execute_result"
    }
   ],
   "source": [
    " np.array([], dtype=np.int32)"
   ]
  },
  {
   "cell_type": "code",
   "execution_count": 119,
   "metadata": {
    "scrolled": true
   },
   "outputs": [
    {
     "ename": "TypingError",
     "evalue": "Failed in nopython mode pipeline (step: nopython frontend)\n\u001b[1m\u001b[1mNo implementation of function Function(<built-in function getitem>) found for signature:\n \n >>> getitem(array(int64, 3d, F), UniTuple(array(int64, 1d, C) x 2))\n \nThere are 22 candidate implementations:\n\u001b[1m      - Of which 20 did not match due to:\n      Overload of function 'getitem': File: <numerous>: Line N/A.\n        With argument(s): '(array(int64, 3d, F), UniTuple(array(int64, 1d, C) x 2))':\u001b[0m\n\u001b[1m       No match.\u001b[0m\n\u001b[1m      - Of which 2 did not match due to:\n      Overload in function 'GetItemBuffer.generic': File: numba\\core\\typing\\arraydecl.py: Line 162.\n        With argument(s): '(array(int64, 3d, F), UniTuple(array(int64, 1d, C) x 2))':\u001b[0m\n\u001b[1m       Rejected as the implementation raised a specific error:\n         NotImplementedError: only one advanced index supported\u001b[0m\n  raised from C:\\Users\\dfa23\\Anaconda3\\lib\\site-packages\\numba\\core\\typing\\arraydecl.py:65\n\u001b[0m\n\u001b[0m\u001b[1mDuring: typing of intrinsic-call at <ipython-input-118-e8a6e4fb55bc> (71)\u001b[0m\n\u001b[1m\nFile \"<ipython-input-118-e8a6e4fb55bc>\", line 71:\u001b[0m\n\u001b[1mdef find_sprites(image, backgroundColor, margin=3):\n    <source elided>\n                bitmap = find_contiguous(image, point, backgroundColor, bitmap, marker, margin)\n\u001b[1m                spritePlot = bitmap[np.where(bitmap[:,:,2] == marker)]\n\u001b[0m                \u001b[1m^\u001b[0m\u001b[0m\n",
     "output_type": "error",
     "traceback": [
      "\u001b[1;31m--------------------------------------------------------------------------\u001b[0m",
      "\u001b[1;31mTypingError\u001b[0m                              Traceback (most recent call last)",
      "\u001b[1;32m<ipython-input-119-d4f7327f50bd>\u001b[0m in \u001b[0;36m<module>\u001b[1;34m\u001b[0m\n\u001b[0;32m      2\u001b[0m \u001b[0mfind_sprites_t\u001b[0m \u001b[1;33m=\u001b[0m \u001b[0mtiming\u001b[0m\u001b[1;33m(\u001b[0m\u001b[0mfind_sprites\u001b[0m\u001b[1;33m)\u001b[0m\u001b[1;33m\u001b[0m\u001b[1;33m\u001b[0m\u001b[0m\n\u001b[0;32m      3\u001b[0m \u001b[1;33m\u001b[0m\u001b[0m\n\u001b[1;32m----> 4\u001b[1;33m \u001b[0mspriteRectangles\u001b[0m \u001b[1;33m=\u001b[0m \u001b[0mfind_sprites\u001b[0m\u001b[1;33m(\u001b[0m\u001b[0mimg\u001b[0m\u001b[1;33m,\u001b[0m \u001b[0mbgColor\u001b[0m\u001b[1;33m,\u001b[0m \u001b[0mmargin\u001b[0m\u001b[1;33m=\u001b[0m\u001b[1;36m6\u001b[0m\u001b[1;33m)\u001b[0m\u001b[1;33m\u001b[0m\u001b[1;33m\u001b[0m\u001b[0m\n\u001b[0m\u001b[0;32m      5\u001b[0m \u001b[0mspriteRectangles\u001b[0m \u001b[1;33m=\u001b[0m \u001b[0msorted\u001b[0m\u001b[1;33m(\u001b[0m\u001b[0mspriteRectangles\u001b[0m\u001b[1;33m)\u001b[0m\u001b[1;33m\u001b[0m\u001b[1;33m\u001b[0m\u001b[0m\n",
      "\u001b[1;32m~\\Anaconda3\\lib\\site-packages\\numba\\core\\dispatcher.py\u001b[0m in \u001b[0;36m_compile_for_args\u001b[1;34m(self, *args, **kws)\u001b[0m\n\u001b[0;32m    413\u001b[0m                 \u001b[0me\u001b[0m\u001b[1;33m.\u001b[0m\u001b[0mpatch_message\u001b[0m\u001b[1;33m(\u001b[0m\u001b[0mmsg\u001b[0m\u001b[1;33m)\u001b[0m\u001b[1;33m\u001b[0m\u001b[1;33m\u001b[0m\u001b[0m\n\u001b[0;32m    414\u001b[0m \u001b[1;33m\u001b[0m\u001b[0m\n\u001b[1;32m--> 415\u001b[1;33m             \u001b[0merror_rewrite\u001b[0m\u001b[1;33m(\u001b[0m\u001b[0me\u001b[0m\u001b[1;33m,\u001b[0m \u001b[1;34m'typing'\u001b[0m\u001b[1;33m)\u001b[0m\u001b[1;33m\u001b[0m\u001b[1;33m\u001b[0m\u001b[0m\n\u001b[0m\u001b[0;32m    416\u001b[0m         \u001b[1;32mexcept\u001b[0m \u001b[0merrors\u001b[0m\u001b[1;33m.\u001b[0m\u001b[0mUnsupportedError\u001b[0m \u001b[1;32mas\u001b[0m \u001b[0me\u001b[0m\u001b[1;33m:\u001b[0m\u001b[1;33m\u001b[0m\u001b[1;33m\u001b[0m\u001b[0m\n\u001b[0;32m    417\u001b[0m             \u001b[1;31m# Something unsupported is present in the user code, add help info\u001b[0m\u001b[1;33m\u001b[0m\u001b[1;33m\u001b[0m\u001b[1;33m\u001b[0m\u001b[0m\n",
      "\u001b[1;32m~\\Anaconda3\\lib\\site-packages\\numba\\core\\dispatcher.py\u001b[0m in \u001b[0;36merror_rewrite\u001b[1;34m(e, issue_type)\u001b[0m\n\u001b[0;32m    356\u001b[0m                 \u001b[1;32mraise\u001b[0m \u001b[0me\u001b[0m\u001b[1;33m\u001b[0m\u001b[1;33m\u001b[0m\u001b[0m\n\u001b[0;32m    357\u001b[0m             \u001b[1;32melse\u001b[0m\u001b[1;33m:\u001b[0m\u001b[1;33m\u001b[0m\u001b[1;33m\u001b[0m\u001b[0m\n\u001b[1;32m--> 358\u001b[1;33m                 \u001b[0mreraise\u001b[0m\u001b[1;33m(\u001b[0m\u001b[0mtype\u001b[0m\u001b[1;33m(\u001b[0m\u001b[0me\u001b[0m\u001b[1;33m)\u001b[0m\u001b[1;33m,\u001b[0m \u001b[0me\u001b[0m\u001b[1;33m,\u001b[0m \u001b[1;32mNone\u001b[0m\u001b[1;33m)\u001b[0m\u001b[1;33m\u001b[0m\u001b[1;33m\u001b[0m\u001b[0m\n\u001b[0m\u001b[0;32m    359\u001b[0m \u001b[1;33m\u001b[0m\u001b[0m\n\u001b[0;32m    360\u001b[0m         \u001b[0margtypes\u001b[0m \u001b[1;33m=\u001b[0m \u001b[1;33m[\u001b[0m\u001b[1;33m]\u001b[0m\u001b[1;33m\u001b[0m\u001b[1;33m\u001b[0m\u001b[0m\n",
      "\u001b[1;32m~\\Anaconda3\\lib\\site-packages\\numba\\core\\utils.py\u001b[0m in \u001b[0;36mreraise\u001b[1;34m(tp, value, tb)\u001b[0m\n\u001b[0;32m     78\u001b[0m         \u001b[0mvalue\u001b[0m \u001b[1;33m=\u001b[0m \u001b[0mtp\u001b[0m\u001b[1;33m(\u001b[0m\u001b[1;33m)\u001b[0m\u001b[1;33m\u001b[0m\u001b[1;33m\u001b[0m\u001b[0m\n\u001b[0;32m     79\u001b[0m     \u001b[1;32mif\u001b[0m \u001b[0mvalue\u001b[0m\u001b[1;33m.\u001b[0m\u001b[0m__traceback__\u001b[0m \u001b[1;32mis\u001b[0m \u001b[1;32mnot\u001b[0m \u001b[0mtb\u001b[0m\u001b[1;33m:\u001b[0m\u001b[1;33m\u001b[0m\u001b[1;33m\u001b[0m\u001b[0m\n\u001b[1;32m---> 80\u001b[1;33m         \u001b[1;32mraise\u001b[0m \u001b[0mvalue\u001b[0m\u001b[1;33m.\u001b[0m\u001b[0mwith_traceback\u001b[0m\u001b[1;33m(\u001b[0m\u001b[0mtb\u001b[0m\u001b[1;33m)\u001b[0m\u001b[1;33m\u001b[0m\u001b[1;33m\u001b[0m\u001b[0m\n\u001b[0m\u001b[0;32m     81\u001b[0m     \u001b[1;32mraise\u001b[0m \u001b[0mvalue\u001b[0m\u001b[1;33m\u001b[0m\u001b[1;33m\u001b[0m\u001b[0m\n\u001b[0;32m     82\u001b[0m \u001b[1;33m\u001b[0m\u001b[0m\n",
      "\u001b[1;31mTypingError\u001b[0m: Failed in nopython mode pipeline (step: nopython frontend)\n\u001b[1m\u001b[1mNo implementation of function Function(<built-in function getitem>) found for signature:\n \n >>> getitem(array(int64, 3d, F), UniTuple(array(int64, 1d, C) x 2))\n \nThere are 22 candidate implementations:\n\u001b[1m      - Of which 20 did not match due to:\n      Overload of function 'getitem': File: <numerous>: Line N/A.\n        With argument(s): '(array(int64, 3d, F), UniTuple(array(int64, 1d, C) x 2))':\u001b[0m\n\u001b[1m       No match.\u001b[0m\n\u001b[1m      - Of which 2 did not match due to:\n      Overload in function 'GetItemBuffer.generic': File: numba\\core\\typing\\arraydecl.py: Line 162.\n        With argument(s): '(array(int64, 3d, F), UniTuple(array(int64, 1d, C) x 2))':\u001b[0m\n\u001b[1m       Rejected as the implementation raised a specific error:\n         NotImplementedError: only one advanced index supported\u001b[0m\n  raised from C:\\Users\\dfa23\\Anaconda3\\lib\\site-packages\\numba\\core\\typing\\arraydecl.py:65\n\u001b[0m\n\u001b[0m\u001b[1mDuring: typing of intrinsic-call at <ipython-input-118-e8a6e4fb55bc> (71)\u001b[0m\n\u001b[1m\nFile \"<ipython-input-118-e8a6e4fb55bc>\", line 71:\u001b[0m\n\u001b[1mdef find_sprites(image, backgroundColor, margin=3):\n    <source elided>\n                bitmap = find_contiguous(image, point, backgroundColor, bitmap, marker, margin)\n\u001b[1m                spritePlot = bitmap[np.where(bitmap[:,:,2] == marker)]\n\u001b[0m                \u001b[1m^\u001b[0m\u001b[0m\n"
     ]
    }
   ],
   "source": [
    "# find sprite bounding boxes\n",
    "find_sprites_t = timing(find_sprites)\n",
    "\n",
    "spriteRectangles = find_sprites(img, bgColor, margin=6)\n",
    "spriteRectangles = sorted(spriteRectangles)"
   ]
  },
  {
   "cell_type": "code",
   "execution_count": 12,
   "metadata": {},
   "outputs": [
    {
     "ename": "NameError",
     "evalue": "name 'bitmap' is not defined",
     "output_type": "error",
     "traceback": [
      "\u001b[1;31m--------------------------------------------------------------------------\u001b[0m",
      "\u001b[1;31mNameError\u001b[0m                                Traceback (most recent call last)",
      "\u001b[1;32m<ipython-input-12-b4f7a6c8c2ea>\u001b[0m in \u001b[0;36m<module>\u001b[1;34m\u001b[0m\n\u001b[1;32m----> 1\u001b[1;33m \u001b[0mbitmap\u001b[0m\u001b[1;33m\u001b[0m\u001b[1;33m\u001b[0m\u001b[0m\n\u001b[0m",
      "\u001b[1;31mNameError\u001b[0m: name 'bitmap' is not defined"
     ]
    }
   ],
   "source": [
    "bitmap"
   ]
  },
  {
   "cell_type": "code",
   "execution_count": 11,
   "metadata": {},
   "outputs": [],
   "source": [
    "import math\n",
    "maxWidth = max([s.width for s in spriteRectangles])\n",
    "maxHeight = max([s.height for s in spriteRectangles])\n",
    "w = math.ceil(maxWidth/8)*8\n",
    "h = math.ceil(maxHeight/8)*8"
   ]
  },
  {
   "cell_type": "code",
   "execution_count": 13,
   "metadata": {},
   "outputs": [
    {
     "name": "stdout",
     "output_type": "stream",
     "text": [
      "[255  60  60 255]\n"
     ]
    },
    {
     "data": {
      "text/plain": [
       "True"
      ]
     },
     "execution_count": 13,
     "metadata": {},
     "output_type": "execute_result"
    }
   ],
   "source": [
    "# Write individual files of each sprite\n",
    "trans = remove_bgColor(img, bgColor)\n",
    "    \n",
    "for i, r in enumerate(spriteRectangles):\n",
    "    subimg =  subset_image(trans, r)\n",
    "    #print(i)\n",
    "    #print(subimg)\n",
    "    #newsub = add_space(subimg, w, h)\n",
    "    cv2.imwrite(f\"{aname}/{i:03}.png\",subimg)\n",
    "\n",
    "# Write original sheet with transparent bg\n",
    "cv2.imwrite(f\"{aname}/original_image.png\",trans)\n",
    "\n",
    "# Adds in visual bounding boxes\n",
    "boxTrans = add_boxes(trans,spriteRectangles)\n",
    "cv2.imwrite(f\"{aname}/bounding_boxes.png\", boxTrans)"
   ]
  },
  {
   "cell_type": "code",
   "execution_count": 62,
   "metadata": {},
   "outputs": [
    {
     "data": {
      "text/plain": [
       "array([  8,   8,   8, 255], dtype=uint8)"
      ]
     },
     "execution_count": 62,
     "metadata": {},
     "output_type": "execute_result"
    }
   ],
   "source": [
    "img[80,30]"
   ]
  },
  {
   "cell_type": "code",
   "execution_count": 38,
   "metadata": {},
   "outputs": [
    {
     "data": {
      "image/png": "[encoded data removed]",
      "text/plain": [
       "<Figure size 432x288 with 1 Axes>"
      ]
     },
     "metadata": {
      "needs_background": "light"
     },
     "output_type": "display_data"
    }
   ],
   "source": [
    "#Plot subimg\n",
    "\n",
    "import matplotlib.pyplot as plt\n",
    "r = spriteRectangles[0] # rectangle\n",
    "m = 3 # margin\n",
    "\n",
    "plt.figure(0)\n",
    "plt.imshow(boxTrans[r.minHeight-m:r.maxHeight+m,r.minWidth-m:r.maxWidth+m])\n",
    "plt.show()"
   ]
  },
  {
   "cell_type": "code",
   "execution_count": 231,
   "metadata": {},
   "outputs": [
    {
     "name": "stdout",
     "output_type": "stream",
     "text": [
      "6.67 ms ± 30.7 µs per loop (mean ± std. dev. of 7 runs, 100 loops each)\n"
     ]
    }
   ],
   "source": [
    "%%timeit\n",
    "XX,YY = np.meshgrid(np.arange(img.shape[1]),np.arange(img.shape[0]))\n",
    "zeros = np.zeros((img.shape[0],img.shape[1],1), dtype=np.uint8)\n",
    "bitmap = np.vstack((YY.ravel(),XX.ravel(),zeros.ravel())).T.reshape(img.shape[0],img.shape[1],3)"
   ]
  }
 ],
 "metadata": {
  "kernelspec": {
   "display_name": "Python 3",
   "language": "python",
   "name": "python3"
  },
  "language_info": {
   "codemirror_mode": {
    "name": "ipython",
    "version": 3
   },
   "file_extension": ".py",
   "mimetype": "text/x-python",
   "name": "python",
   "nbconvert_exporter": "python",
   "pygments_lexer": "ipython3",
   "version": "3.7.4"
  }
 },
 "nbformat": 4,
 "nbformat_minor": 4
}
